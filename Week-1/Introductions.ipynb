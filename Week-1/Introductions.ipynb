{
  "cells": [
    {
      "cell_type": "markdown",
      "metadata": {},
      "source": [
        "### Introduction to Data Structures and Algorithms\n",
        "\n",
        "#### 1. Arrays\n",
        "- Arrays are fundamental data structures that store elements of the same type in contiguous memory locations.\n",
        "- Accessing elements in an array is efficient with constant time complexity O(1).\n",
        "- Common operations include insertion, deletion, and traversal.\n",
        "- Arrays have a fixed size in most programming languages."
      ]
    },
    {
      "cell_type": "code",
      "execution_count": null,
      "metadata": {},
      "outputs": [],
      "source": [
        "# Example of array declaration and initialization in Python\n",
        "array = [1, 2, 3, 4, 5]"
      ]
    },
    {
      "cell_type": "markdown",
      "metadata": {},
      "source": [
        "#### 2. Pointers\n",
        "- Pointers are variables that store memory addresses of other variables.\n",
        "- They are used to efficiently manage memory, create data structures like linked lists, trees, etc., and enable dynamic memory allocation.\n",
        "- Understanding pointers is crucial for low-level programming and data structure implementation."
      ]
    },
    {
      "cell_type": "code",
      "execution_count": null,
      "metadata": {},
      "outputs": [],
      "source": [
        "# Example of using pointers in C\n",
        "int num = 10;\n",
        "int *ptr = &num;  // ptr stores the memory address of num"
      ]
    },
    {
      "cell_type": "markdown",
      "metadata": {},
      "source": [
        "#### 3. Stack\n",
        "- A stack is a linear data structure that follows the Last-In-First-Out (LIFO) principle.\n",
        "- Common operations include push (addition of an element), pop (removal of the top element), and peek (accessing the top element).\n",
        "- Stacks are used in function calls, expression evaluation, backtracking, etc."
      ]
    },
    {
      "cell_type": "code",
      "execution_count": null,
      "metadata": {},
      "outputs": [],
      "source": [
        "# Example of stack implementation in Python using lists\n",
        "stack = []\n",
        "stack.append(1)  # Push\n",
        "top_element = stack.pop() # Pop"
      ]
    },
    {
      "cell_type": "markdown",
      "metadata": {},
      "source": [
        "#### 4. Linked List\n",
        "- A linked list is a linear data structure consisting of nodes, where each node contains a data element and a reference (pointer) to the next node.\n",
        "- Unlike arrays, linked lists allow dynamic memory allocation and can easily grow or shrink.\n",
        "- Common types include singly linked lists, doubly linked lists, and circular linked lists."
      ]
    },
    {
      "cell_type": "code",
      "execution_count": null,
      "metadata": {},
      "outputs": [],
      "source": [
        "# Example of linked list implementation in Python\n",
        "class Node:\n",
        "    def __init__(self, data):\n",
        "        self.data = data\n",
        "        self.next = None\n",
        "\n",
        "# Creating a linked list\n",
        "head = Node(1)\n",
        "head.next = Node(2)"
      ]
    },
    {
      "cell_type": "markdown",
      "metadata": {},
      "source": [
        "#### 5. Binary Search\n",
        "- Binary search is an efficient searching algorithm used on sorted arrays or lists.\n",
        "- It divides the search space in half with each comparison, resulting in logarithmic time complexity O(log n).\n",
        "- Binary search is faster than linear search for large datasets."
      ]
    },
    {
      "cell_type": "code",
      "execution_count": null,
      "metadata": {},
      "outputs": [],
      "source": [
        "# Example of binary search implementation in Python\n",
        "def binary_search(arr, target):\n",
        "    left, right = 0, len(arr) - 1\n",
        "    while left <= right:\n",
        "        mid = (left + right) // 2\n",
        "        if arr[mid] == target:\n",
        "            return mid\n",
        "        elif arr[mid] < target:\n",
        "            left = mid + 1\n",
        "        else:\n",
        "            right = mid - 1\n",
        "    return -1"
      ]
    },
    {
      "cell_type": "markdown",
      "metadata": {},
      "source": [
        "#### 6. Bit Manipulation\n",
        "- Bit manipulation involves operations on individual bits or groups of bits.\n",
        "- It is often used in optimizing code, cryptography, compression algorithms, etc.\n",
        "- Common bitwise operators include AND (&), OR (|), XOR (^), left shift (<<), right shift (>>), etc."
      ]
    },
    {
      "cell_type": "code",
      "execution_count": null,
      "metadata": {},
      "outputs": [],
      "source": [
        "# Example of bitwise XOR operation in Python\n",
        "a = 5  # 101 in binary\n",
        "b = 3  # 011 in binary\n",
        "result = a ^ b  # Result is 110 (binary) or 6 (decimal)\n"
      ]
    },
    {
      "cell_type": "markdown",
      "metadata": {},
      "source": [
        "#### 7. Math and Geometry\n",
        "- Math and geometry involve various mathematical operations and geometric concepts used in programming.\n",
        "- Topics include arithmetic operations, algebra, trigonometry, calculus, geometry, etc.\n",
        "- Applications range from numerical computations to graphics programming."
      ]
    },
    {
      "cell_type": "code",
      "execution_count": null,
      "metadata": {},
      "outputs": [],
      "source": [
        "# Example of computing the area of a circle in Python\n",
        "import math\n",
        "radius = 5\n",
        "area = math.pi * radius ** 2"
      ]
    },
    {
      "cell_type": "markdown",
      "metadata": {},
      "source": [
        "#### 8. Binary Trees\n",
        "- Binary trees are hierarchical data structures consisting of nodes, where each node has at most two children, referred to as the left child and the right child.\n",
        "- Common operations include insertion, deletion, traversal (in-order, pre-order, post-order), etc.\n",
        "- Binary trees are used in many applications such as expression trees, binary search trees, etc."
      ]
    },
    {
      "cell_type": "code",
      "execution_count": null,
      "metadata": {},
      "outputs": [],
      "source": [
        "# Example of binary tree implementation in Python\n",
        "class TreeNode:\n",
        "    def __init__(self, val):\n",
        "        self.val = val\n",
        "        self.left = None\n",
        "        self.right = None"
      ]
    },
    {
      "cell_type": "markdown",
      "metadata": {},
      "source": [
        "#### 9. Tries\n",
        "- Tries (also known as prefix trees) are tree-like data structures used to store a dynamic set of strings.\n",
        "- Tries allow efficient insertion, deletion, and searching of strings.\n",
        "- They are commonly used in autocomplete systems, spell checkers, and routing tables."
      ]
    },
    {
      "cell_type": "code",
      "execution_count": null,
      "metadata": {},
      "outputs": [],
      "source": [
        "# Example of trie implementation in Python\n",
        "class TrieNode:\n",
        "    def __init__(self):\n",
        "        self.children = {}\n",
        "        self.is_end_of_word = False\n",
        "\n",
        "class Trie:\n",
        "    def __init__(self):\n",
        "        self.root = TrieNode()\n",
        "\n",
        "    def insert(self, word):\n",
        "        node = self.root\n",
        "        for char in word:\n",
        "            if char not in node.children:\n",
        "                node.children[char] = TrieNode()\n",
        "            node = node.children[char]\n",
        "        node.is_end_of_word = True"
      ]
    },
    {
      "cell_type": "markdown",
      "metadata": {},
      "source": [
        "#### 10. Heap\n",
        "- A heap is a specialized tree-based data structure that satisfies the heap property.\n",
        "- Heaps are commonly implemented as binary heaps, where the parent node is greater than or equal to (max heap) or less than or equal to (min heap) its children.\n",
        "- Heaps are used in priority queues, heap sort, and graph algorithms."
      ]
    },
    {
      "cell_type": "code",
      "execution_count": null,
      "metadata": {},
      "outputs": [],
      "source": [
        "# Example of heap implementation in Python using heapq module\n",
        "import heapq\n",
        "heap = []\n",
        "heapq.heapify(heap)  # Initialize an empty heap\n",
        "heapq.heappush(heap, 4)  # Insertion\n",
        "top_element = heapq.heappop(heap)  # Extraction"
      ]
    },
    {
      "cell_type": "markdown",
      "metadata": {},
      "source": [
        "#### 11. Priority Queue\n",
        "- A priority queue is an abstract data type similar to a regular queue, but each element has a priority associated with it.\n",
        "- Elements with higher priority are dequeued before elements with lower priority.\n",
        "- Priority queues can be implemented using heaps or other data structures."
      ]
    },
    {
      "cell_type": "code",
      "execution_count": null,
      "metadata": {},
      "outputs": [],
      "source": [
        "# Example of priority queue implementation in Python using queue.PriorityQueue\n",
        "from queue import PriorityQueue\n",
        "pq = PriorityQueue()\n",
        "pq.put((3, 'Priority 3'))  # Insertion with priority\n",
        "item = pq.get()  # Extraction"
      ]
    },
    {
      "cell_type": "markdown",
      "metadata": {},
      "source": [
        "#### 12. Backtracking\n",
        "- Backtracking is a technique used to systematically search for solutions to a problem by trying all possible candidates.\n",
        "- It incrementally builds candidates for the solution and abandons a candidate (\"backtracks\") as soon as it determines that the candidate cannot possibly be completed to a valid solution.\n",
        "- Backtracking is used in solving problems such as the N-Queens problem, Sudoku, and generating all permutations."
      ]
    },
    {
      "cell_type": "code",
      "execution_count": null,
      "metadata": {},
      "outputs": [],
      "source": [
        "# Example of backtracking algorithm to generate all permutations\n",
        "def backtrack(nums, path, result):\n",
        "    if not nums:\n",
        "        result.append(path)\n",
        "        return\n",
        "    for i in range(len(nums)):\n",
        "        backtrack(nums[:i] + nums[i+1:], path + [nums[i]], result)\n",
        "\n",
        "nums = [1, 2, 3]\n",
        "result = []\n",
        "backtrack(nums, [], result)"
      ]
    },
    {
      "cell_type": "markdown",
      "metadata": {},
      "source": [
        "#### 13. Dynamic Programming (DP)\n",
        "- Dynamic Programming is a method for solving complex problems by breaking them down into simpler subproblems and solving each subproblem only once.\n",
        "- It uses memoization or tabulation to store and reuse solutions to subproblems, avoiding redundant computations.\n",
        "- DP is used in optimization problems, sequence alignment, shortest path algorithms, etc."
      ]
    },
    {
      "cell_type": "code",
      "execution_count": null,
      "metadata": {},
      "outputs": [],
      "source": [
        "# Example of dynamic programming to compute Fibonacci sequence\n",
        "def fibonacci(n):\n",
        "    dp = [0] * (n + 1)\n",
        "    dp[1] = 1\n",
        "    for i in range(2, n + 1):\n",
        "        dp[i] = dp[i - 1] + dp[i - 2]\n",
        "    return dp[n]\n",
        "\n",
        "result = fibonacci(5)  # Returns 5"
      ]
    },
    {
      "cell_type": "markdown",
      "metadata": {},
      "source": [
        "#### 14. Greedy Algorithms\n",
        "- Greedy algorithms make locally optimal choices at each step with the hope of finding a global optimum.\n",
        "- Unlike dynamic programming, greedy algorithms do not necessarily guarantee an optimal solution for every problem.\n",
        "- They are used in problems such as minimum spanning trees, shortest path algorithms (Dijkstra's algorithm), and scheduling tasks."
      ]
    },
    {
      "cell_type": "code",
      "execution_count": null,
      "metadata": {},
      "outputs": [],
      "source": [
        "# Example of greedy algorithm to find minimum coins for a given amount\n",
        "def min_coins(coins, amount):\n",
        "    coins.sort(reverse=True)\n",
        "    num_coins = 0\n",
        "    for coin in coins:\n",
        "        num_coins += amount // coin\n",
        "        amount %= coin\n",
        "    return num_coins\n",
        "\n",
        "coins = [1, 2, 5, 10, 20, 50, 100]\n",
        "amount = 123\n",
        "result = min_coins(coins, amount)  # Returns 5"
      ]
    },
    {
      "cell_type": "markdown",
      "metadata": {},
      "source": [
        "#### 15. Interval\n",
        "- Interval-related problems involve handling a collection of intervals and performing operations like merging intervals, finding overlapping intervals, etc.\n",
        "- Commonly used data structures include arrays, lists, or trees to represent intervals.\n",
        "- Interval problems are encountered in scheduling, calendar applications, and overlapping ranges detection."
      ]
    },
    {
      "cell_type": "code",
      "execution_count": null,
      "metadata": {},
      "outputs": [],
      "source": [
        "# Example of merging overlapping intervals\n",
        "def merge_intervals(intervals):\n",
        "    if not intervals:\n",
        "        return []\n",
        "    intervals.sort(key=lambda x: x[0])\n",
        "    merged = [intervals[0]]\n",
        "    for interval in intervals[1:]:\n",
        "        if interval[0] <= merged[-1][1]:\n",
        "            merged[-1][1] = max(merged[-1][1], interval[1])\n",
        "        else:\n",
        "            merged.append(interval)\n",
        "    return merged\n",
        "\n",
        "intervals = [[1, 3], [2, 6], [8, 10], [15, 18]]\n",
        "result = merge_intervals(intervals)  # Returns [[1, 6], [8, 10], [15, 18]]"
      ]
    },
    {
      "cell_type": "markdown",
      "metadata": {},
      "source": [
        "#### 16. Sliding Window\n",
        "- Sliding window is a technique for finding subarrays (or sublists) with specific properties in a sequence/array.\n",
        "- It involves maintaining a window of elements while moving the window from the beginning to the end of the sequence.\n",
        "- Sliding window is used in problems like finding the maximum sum subarray, longest substring without repeating characters, etc."
      ]
    },
    {
      "cell_type": "code",
      "execution_count": null,
      "metadata": {},
      "outputs": [],
      "source": [
        "# Example of finding the maximum sum subarray using sliding window\n",
        "def max_subarray(nums, k):\n",
        "    window_sum = sum(nums[:k])\n",
        "    max_sum = window_sum\n",
        "    for i in range(len(nums) - k):\n",
        "        window_sum = window_sum - nums[i] + nums[i + k]\n",
        "        max_sum = max(max_sum, window_sum)\n",
        "    return max_sum\n",
        "\n",
        "nums = [1, 3, -1, -3, 5, 3, 6, 7]\n",
        "k = 3\n",
        "result = max_subarray(nums, k)  # Returns 16"
      ]
    },
    {
      "cell_type": "markdown",
      "metadata": {},
      "source": [
        "#### 17. Graph\n",
        "- A graph is a non-linear data structure consisting of nodes (vertices) and edges that connect these nodes.\n",
        "- Graphs can be directed or undirected, weighted or unweighted, cyclic or acyclic.\n",
        "- Graph algorithms include traversal (DFS, BFS), shortest path algorithms (Dijkstra's, Bellman-Ford), minimum spanning trees (Prim's, Kruskal's), etc."
      ]
    },
    {
      "cell_type": "code",
      "execution_count": null,
      "metadata": {},
      "outputs": [],
      "source": [
        "# Example of graph representation using adjacency list\n",
        "graph = {\n",
        "    'A': ['B', 'C'],\n",
        "    'B': ['A', 'D', 'E'],\n",
        "    'C': ['A', 'F'],\n",
        "    'D': ['B'],\n",
        "    'E': ['B', 'F'],\n",
        "    'F': ['C', 'E']\n",
        "}"
      ]
    },
    {
      "cell_type": "markdown",
      "metadata": {},
      "source": [
        "### [Next Page >> ](https://github.com/githubssd/FastML/blob/main/Week-1/PlayGround.ipynb)"
      ]
    },
    {
      "cell_type": "markdown",
      "metadata": {},
      "source": []
    }
  ],
  "metadata": {
    "colab": {
      "provenance": []
    },
    "kernelspec": {
      "display_name": "Python 3",
      "name": "python3"
    },
    "language_info": {
      "name": "python"
    }
  },
  "nbformat": 4,
  "nbformat_minor": 0
}
